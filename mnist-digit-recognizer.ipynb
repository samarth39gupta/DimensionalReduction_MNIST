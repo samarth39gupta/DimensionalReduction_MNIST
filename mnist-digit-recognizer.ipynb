{
 "cells": [
  {
   "cell_type": "code",
   "execution_count": 1,
   "id": "statutory-hopkins",
   "metadata": {
    "_cell_guid": "ca46e565-e5ac-47f5-b07f-8218840d4d82",
    "_uuid": "7cacffb9-efe7-45cf-8fcd-74fd3b615a94",
    "collapsed": false,
    "execution": {
     "iopub.execute_input": "2021-04-13T03:52:54.857206Z",
     "iopub.status.busy": "2021-04-13T03:52:54.856551Z",
     "iopub.status.idle": "2021-04-13T03:53:00.159206Z",
     "shell.execute_reply": "2021-04-13T03:53:00.158398Z"
    },
    "jupyter": {
     "outputs_hidden": false
    },
    "papermill": {
     "duration": 5.317764,
     "end_time": "2021-04-13T03:53:00.159438",
     "exception": false,
     "start_time": "2021-04-13T03:52:54.841674",
     "status": "completed"
    },
    "tags": []
   },
   "outputs": [],
   "source": [
    "import numpy as np\n",
    "import pandas as pd\n",
    "import warnings\n",
    "warnings.filterwarnings(\"ignore\")\n",
    "\n",
    "\n",
    "train_data = pd.read_csv('../input/digit-recognizer/train.csv')\n",
    "test_data = pd.read_csv('../input/digit-recognizer/test.csv')"
   ]
  },
  {
   "cell_type": "code",
   "execution_count": 2,
   "id": "second-advertising",
   "metadata": {
    "execution": {
     "iopub.execute_input": "2021-04-13T03:53:00.303732Z",
     "iopub.status.busy": "2021-04-13T03:53:00.192356Z",
     "iopub.status.idle": "2021-04-13T03:53:00.435017Z",
     "shell.execute_reply": "2021-04-13T03:53:00.434543Z"
    },
    "papermill": {
     "duration": 0.267876,
     "end_time": "2021-04-13T03:53:00.435157",
     "exception": false,
     "start_time": "2021-04-13T03:53:00.167281",
     "status": "completed"
    },
    "tags": []
   },
   "outputs": [
    {
     "name": "stdout",
     "output_type": "stream",
     "text": [
      "data shape in train (42000, 785)\n",
      "data shape in test (28000, 784)\n"
     ]
    }
   ],
   "source": [
    "data = [train_data, test_data]\n",
    "for df in data:\n",
    "    if 'label' in df.columns:\n",
    "        df.drop('label', axis=1)\n",
    "    df = df/255\n",
    "print(f\"data shape in train {train_data.shape}\\ndata shape in test {test_data.shape}\")"
   ]
  },
  {
   "cell_type": "code",
   "execution_count": 3,
   "id": "fatty-locator",
   "metadata": {
    "execution": {
     "iopub.execute_input": "2021-04-13T03:53:00.456842Z",
     "iopub.status.busy": "2021-04-13T03:53:00.456160Z",
     "iopub.status.idle": "2021-04-13T03:53:00.461750Z",
     "shell.execute_reply": "2021-04-13T03:53:00.461275Z"
    },
    "papermill": {
     "duration": 0.019387,
     "end_time": "2021-04-13T03:53:00.461974",
     "exception": false,
     "start_time": "2021-04-13T03:53:00.442587",
     "status": "completed"
    },
    "tags": []
   },
   "outputs": [
    {
     "name": "stdout",
     "output_type": "stream",
     "text": [
      "1    4684\n",
      "7    4401\n",
      "3    4351\n",
      "9    4188\n",
      "2    4177\n",
      "6    4137\n",
      "0    4132\n",
      "4    4072\n",
      "8    4063\n",
      "5    3795\n",
      "Name: label, dtype: int64\n"
     ]
    }
   ],
   "source": [
    "print(train_data['label'].value_counts())"
   ]
  },
  {
   "cell_type": "code",
   "execution_count": 4,
   "id": "operating-execution",
   "metadata": {
    "execution": {
     "iopub.execute_input": "2021-04-13T03:53:00.483834Z",
     "iopub.status.busy": "2021-04-13T03:53:00.483136Z",
     "iopub.status.idle": "2021-04-13T03:53:02.131238Z",
     "shell.execute_reply": "2021-04-13T03:53:02.131730Z"
    },
    "papermill": {
     "duration": 1.661912,
     "end_time": "2021-04-13T03:53:02.131944",
     "exception": false,
     "start_time": "2021-04-13T03:53:00.470032",
     "status": "completed"
    },
    "tags": []
   },
   "outputs": [],
   "source": [
    "from sklearn.model_selection import train_test_split\n",
    "X_train, X_test, y_train, y_test = train_test_split(train_data.drop('label', axis=1),train_data['label'],test_size=0.33, random_state=24)"
   ]
  },
  {
   "cell_type": "code",
   "execution_count": 5,
   "id": "acting-officer",
   "metadata": {
    "execution": {
     "iopub.execute_input": "2021-04-13T03:53:02.154044Z",
     "iopub.status.busy": "2021-04-13T03:53:02.153165Z",
     "iopub.status.idle": "2021-04-13T03:53:02.156222Z",
     "shell.execute_reply": "2021-04-13T03:53:02.156686Z"
    },
    "papermill": {
     "duration": 0.016966,
     "end_time": "2021-04-13T03:53:02.156850",
     "exception": false,
     "start_time": "2021-04-13T03:53:02.139884",
     "status": "completed"
    },
    "tags": []
   },
   "outputs": [
    {
     "name": "stdout",
     "output_type": "stream",
     "text": [
      "(28140, 784) (13860, 784) (28140,) (13860,)\n"
     ]
    }
   ],
   "source": [
    "print(X_train.shape, X_test.shape, y_train.shape, y_test.shape)"
   ]
  },
  {
   "cell_type": "code",
   "execution_count": 6,
   "id": "collect-savannah",
   "metadata": {
    "execution": {
     "iopub.execute_input": "2021-04-13T03:53:02.178448Z",
     "iopub.status.busy": "2021-04-13T03:53:02.177650Z",
     "iopub.status.idle": "2021-04-13T03:53:08.308271Z",
     "shell.execute_reply": "2021-04-13T03:53:08.307629Z"
    },
    "papermill": {
     "duration": 6.143294,
     "end_time": "2021-04-13T03:53:08.308490",
     "exception": false,
     "start_time": "2021-04-13T03:53:02.165196",
     "status": "completed"
    },
    "tags": []
   },
   "outputs": [],
   "source": [
    "from keras.utils import to_categorical\n",
    "\n",
    "y_train = to_categorical(y_train)\n",
    "y_test = to_categorical(y_test)"
   ]
  },
  {
   "cell_type": "code",
   "execution_count": 7,
   "id": "prospective-guitar",
   "metadata": {
    "execution": {
     "iopub.execute_input": "2021-04-13T03:53:08.329981Z",
     "iopub.status.busy": "2021-04-13T03:53:08.329401Z",
     "iopub.status.idle": "2021-04-13T03:53:08.332915Z",
     "shell.execute_reply": "2021-04-13T03:53:08.332223Z"
    },
    "papermill": {
     "duration": 0.016261,
     "end_time": "2021-04-13T03:53:08.333054",
     "exception": false,
     "start_time": "2021-04-13T03:53:08.316793",
     "status": "completed"
    },
    "tags": []
   },
   "outputs": [],
   "source": [
    "X_test_r = X_test.values.reshape(13860, 28,  28, 1)\n",
    "X_train_r = X_train.values.reshape(28140, 28,  28, 1)"
   ]
  },
  {
   "cell_type": "code",
   "execution_count": 8,
   "id": "sophisticated-convention",
   "metadata": {
    "execution": {
     "iopub.execute_input": "2021-04-13T03:53:08.358015Z",
     "iopub.status.busy": "2021-04-13T03:53:08.357254Z",
     "iopub.status.idle": "2021-04-13T03:54:16.329857Z",
     "shell.execute_reply": "2021-04-13T03:54:16.329388Z"
    },
    "papermill": {
     "duration": 67.98869,
     "end_time": "2021-04-13T03:54:16.329997",
     "exception": false,
     "start_time": "2021-04-13T03:53:08.341307",
     "status": "completed"
    },
    "tags": []
   },
   "outputs": [
    {
     "name": "stdout",
     "output_type": "stream",
     "text": [
      "Epoch 1/10\n",
      "880/880 [==============================] - 13s 13ms/step - loss: 2.3789 - val_loss: 0.1379\n",
      "Epoch 2/10\n",
      "880/880 [==============================] - 11s 12ms/step - loss: 0.1085 - val_loss: 0.1087\n",
      "Epoch 3/10\n",
      "880/880 [==============================] - 11s 12ms/step - loss: 0.0778 - val_loss: 0.1012\n",
      "Epoch 4/10\n",
      "880/880 [==============================] - 11s 13ms/step - loss: 0.0687 - val_loss: 0.1889\n",
      "Epoch 5/10\n",
      "880/880 [==============================] - 11s 12ms/step - loss: 0.0601 - val_loss: 0.1068\n",
      "Epoch 6/10\n",
      "880/880 [==============================] - 11s 12ms/step - loss: 0.0564 - val_loss: 0.1043\n",
      "Epoch 00006: early stopping\n"
     ]
    },
    {
     "data": {
      "text/plain": [
       "<tensorflow.python.keras.callbacks.History at 0x7fa864f8b490>"
      ]
     },
     "execution_count": 8,
     "metadata": {},
     "output_type": "execute_result"
    }
   ],
   "source": [
    "from tensorflow.keras.models import Sequential\n",
    "from tensorflow.keras.layers import Dense, Activation,Dropout, Conv2D, MaxPooling2D, Flatten, GaussianNoise, Reshape\n",
    "from tensorflow.keras.callbacks import EarlyStopping\n",
    "from tensorflow.random import set_seed\n",
    "from tensorflow.keras.optimizers import SGD\n",
    "\n",
    "model_conv2D = Sequential()\n",
    "model_conv2D.add(Conv2D(32, (5, 5), activation='relu',\n",
    " input_shape=(28, 28, 1)))\n",
    "model_conv2D.add(MaxPooling2D((3, 3)))\n",
    "\n",
    "model_conv2D.add(Conv2D(64, (3, 3), activation='relu'))\n",
    "\n",
    "model_conv2D.add(Flatten())\n",
    "model_conv2D.add(Dense(64, activation='relu'))\n",
    "model_conv2D.add(Dense(10, activation='softmax'))\n",
    "\n",
    "\n",
    "es = [EarlyStopping(monitor='val_loss', mode='min', verbose=1, patience=3)]\n",
    "\n",
    "model_conv2D.compile(\n",
    "    optimizer='rmsprop',\n",
    "    loss='categorical_crossentropy'\n",
    ")\n",
    "\n",
    "model_conv2D.fit(\n",
    "    x = X_train_r,\n",
    "    y = y_train,\n",
    "    epochs = 10,\n",
    "    callbacks=[es],\n",
    "    validation_data=(X_test_r, y_test)\n",
    ")\n"
   ]
  },
  {
   "cell_type": "code",
   "execution_count": 9,
   "id": "ecological-found",
   "metadata": {
    "execution": {
     "iopub.execute_input": "2021-04-13T03:54:16.830838Z",
     "iopub.status.busy": "2021-04-13T03:54:16.830137Z",
     "iopub.status.idle": "2021-04-13T03:54:18.415045Z",
     "shell.execute_reply": "2021-04-13T03:54:18.413925Z"
    },
    "papermill": {
     "duration": 1.839702,
     "end_time": "2021-04-13T03:54:18.415190",
     "exception": false,
     "start_time": "2021-04-13T03:54:16.575488",
     "status": "completed"
    },
    "tags": []
   },
   "outputs": [
    {
     "name": "stdout",
     "output_type": "stream",
     "text": [
      "Accuracy: 0.9816\n"
     ]
    }
   ],
   "source": [
    "from sklearn.metrics import accuracy_score\n",
    "preds = model_conv2D.predict_classes(X_test_r)\n",
    "y_test_x = [np.argmax(r) for r in y_test]\n",
    "print(f'Accuracy: {round(accuracy_score(y_test_x, preds), 5)}')"
   ]
  },
  {
   "cell_type": "code",
   "execution_count": 10,
   "id": "architectural-clinton",
   "metadata": {
    "execution": {
     "iopub.execute_input": "2021-04-13T03:54:18.915423Z",
     "iopub.status.busy": "2021-04-13T03:54:18.914782Z",
     "iopub.status.idle": "2021-04-13T03:54:22.479749Z",
     "shell.execute_reply": "2021-04-13T03:54:22.478802Z"
    },
    "papermill": {
     "duration": 3.818385,
     "end_time": "2021-04-13T03:54:22.479909",
     "exception": false,
     "start_time": "2021-04-13T03:54:18.661524",
     "status": "completed"
    },
    "tags": []
   },
   "outputs": [],
   "source": [
    "test = pd.Series(model_conv2D.predict_classes(test_data.values.reshape(28000, 28, 28, 1)))\n",
    "test_subm = pd.DataFrame(data = {'ImageId': list(range(1,28001)), 'Label':test})\n",
    "test_subm.to_csv('test_subm.csv', index=False)"
   ]
  },
  {
   "cell_type": "code",
   "execution_count": null,
   "id": "strange-boring",
   "metadata": {
    "papermill": {
     "duration": 0.246142,
     "end_time": "2021-04-13T03:54:22.971814",
     "exception": false,
     "start_time": "2021-04-13T03:54:22.725672",
     "status": "completed"
    },
    "tags": []
   },
   "outputs": [],
   "source": []
  }
 ],
 "metadata": {
  "kernelspec": {
   "display_name": "Python 3",
   "language": "python",
   "name": "python3"
  },
  "language_info": {
   "codemirror_mode": {
    "name": "ipython",
    "version": 3
   },
   "file_extension": ".py",
   "mimetype": "text/x-python",
   "name": "python",
   "nbconvert_exporter": "python",
   "pygments_lexer": "ipython3",
   "version": "3.7.9"
  },
  "papermill": {
   "default_parameters": {},
   "duration": 95.569618,
   "end_time": "2021-04-13T03:54:24.333864",
   "environment_variables": {},
   "exception": null,
   "input_path": "__notebook__.ipynb",
   "output_path": "__notebook__.ipynb",
   "parameters": {},
   "start_time": "2021-04-13T03:52:48.764246",
   "version": "2.3.2"
  }
 },
 "nbformat": 4,
 "nbformat_minor": 5
}
